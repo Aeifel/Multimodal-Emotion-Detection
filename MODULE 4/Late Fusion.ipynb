{
 "cells": [
  {
   "cell_type": "code",
   "execution_count": 60,
   "id": "96d048f3",
   "metadata": {},
   "outputs": [],
   "source": [
    "import numpy as np\n",
    "import tensorflow as tf\n",
    "from tensorflow.keras.layers import Dense, Input, Concatenate\n",
    "from tensorflow.keras.models import Model"
   ]
  },
  {
   "cell_type": "code",
   "execution_count": 61,
   "id": "429a1ff2",
   "metadata": {},
   "outputs": [
    {
     "name": "stdout",
     "output_type": "stream",
     "text": [
      "[[0.09342158 0.01175559 0.1619229  0.24311104 0.05837929 0.3508038\n",
      "  0.0806058 ]]\n",
      "[[0.14217643 0.1430918  0.14337528 0.14119731 0.14151604 0.14505322\n",
      "  0.14358993]]\n"
     ]
    }
   ],
   "source": [
    "image_pred = np.load('../MODULE II/image_emotion.npy')\n",
    "text_pred = np.load('../text_emotion.npy')\n",
    "\n",
    "print(image_pred)\n",
    "print(text_pred)"
   ]
  },
  {
   "cell_type": "code",
   "execution_count": 62,
   "id": "7d30b688",
   "metadata": {
    "scrolled": true
   },
   "outputs": [
    {
     "name": "stdout",
     "output_type": "stream",
     "text": [
      "[[0.09342158 0.01175559 0.1619229  0.24311104 0.05837929 0.3508038\n",
      "  0.0806058  0.14217643 0.1430918  0.14337528 0.14119731 0.14151604\n",
      "  0.14505322 0.14358993]]\n"
     ]
    }
   ],
   "source": [
    "# concatenate the two arrays\n",
    "merged_pred = np.concatenate([image_pred, text_pred], axis = 1)\n",
    "\n",
    "print(merged_pred)"
   ]
  },
  {
   "cell_type": "code",
   "execution_count": 63,
   "id": "603aeead",
   "metadata": {},
   "outputs": [
    {
     "name": "stdout",
     "output_type": "stream",
     "text": [
      "[[0.11779901 0.07742369 0.15264909 0.19215417 0.09994767 0.2479285\n",
      "  0.11209786]]\n",
      "[[0.14217643 0.1430918  0.1619229  0.24311104 0.14151604 0.3508038\n",
      "  0.14358993]]\n"
     ]
    }
   ],
   "source": [
    "#generating the mean of the outputs of the 2 models\n",
    "mean_scores = (image_pred + text_pred) / 2.0\n",
    "\n",
    "#generating the max of each class for the outputs of the 2 models\n",
    "max_scores = np.maximum(image_pred, text_pred)\n",
    "\n",
    "print(mean_scores)\n",
    "print(max_scores)"
   ]
  },
  {
   "cell_type": "code",
   "execution_count": 64,
   "id": "8db46f98",
   "metadata": {},
   "outputs": [
    {
     "name": "stdout",
     "output_type": "stream",
     "text": [
      "Predicted emotion: Surprise\n",
      "Probability scores: [[0.1348632  0.12339137 0.15914077 0.22782397 0.12904553 0.31994122\n",
      "  0.13414231]]\n"
     ]
    }
   ],
   "source": [
    "# define the weights for each modality\n",
    "text_weight = 0.3\n",
    "image_weight = 0.7\n",
    "\n",
    "# perform the weighted average\n",
    "weighted_average = mean_scores * text_weight + max_scores * image_weight\n",
    "\n",
    "# get the predicted class\n",
    "predicted_emotion = ['Angry', 'Disgust', 'Fear', 'Happy', 'Sad', 'Surprise', 'Neutral'][np.argmax(weighted_average)]\n",
    "\n",
    "# print the predicted class and the probability scores\n",
    "print('Predicted emotion:', predicted_emotion)\n",
    "print('Probability scores:', weighted_average)"
   ]
  }
 ],
 "metadata": {
  "kernelspec": {
   "display_name": "Python 3 (ipykernel)",
   "language": "python",
   "name": "python3"
  },
  "language_info": {
   "codemirror_mode": {
    "name": "ipython",
    "version": 3
   },
   "file_extension": ".py",
   "mimetype": "text/x-python",
   "name": "python",
   "nbconvert_exporter": "python",
   "pygments_lexer": "ipython3",
   "version": "3.9.12"
  }
 },
 "nbformat": 4,
 "nbformat_minor": 5
}
