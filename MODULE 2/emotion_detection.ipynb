{
 "cells": [
  {
   "cell_type": "code",
   "execution_count": null,
   "id": "738dc1ce",
   "metadata": {},
   "outputs": [],
   "source": []
  },
  {
   "cell_type": "code",
   "execution_count": 142,
   "id": "9e6fc377",
   "metadata": {},
   "outputs": [],
   "source": [
    "import cv2\n",
    "from keras.models import load_model\n",
    "import numpy as np"
   ]
  },
  {
   "cell_type": "code",
   "execution_count": 160,
   "id": "40a52107",
   "metadata": {},
   "outputs": [],
   "source": [
    "# Load the pre-trained face detection cascade classifier\n",
    "face_cascade = cv2.CascadeClassifier('../haarcascade_frontalface_default.xml')\n",
    "\n",
    "# Load the pre-trained emotion detection model\n",
    "emotion_model = load_model('../fer_model.h5')\n",
    "\n",
    "# Read the input image\n",
    "img = cv2.imread('../inputs/Thesis/surprise.png')\n",
    "\n",
    "# Convert the image to grayscale\n",
    "gray = cv2.cvtColor(img, cv2.COLOR_BGR2GRAY)\n",
    "\n",
    "# Detect faces in the image\n",
    "faces = face_cascade.detectMultiScale(gray, scaleFactor=1.1, minNeighbors=5, minSize=(30, 30))"
   ]
  },
  {
   "cell_type": "code",
   "execution_count": 161,
   "id": "14e69746",
   "metadata": {},
   "outputs": [
    {
     "name": "stdout",
     "output_type": "stream",
     "text": [
      "1/1 [==============================] - 0s 94ms/step\n",
      "[[0.3929982  0.0364162  0.02769915 0.04602179 0.3984292  0.09677131\n",
      "  0.00166411]]\n",
      "1/1 [==============================] - 0s 12ms/step\n",
      "[[0.09342158 0.01175559 0.1619229  0.24311104 0.05837929 0.3508038\n",
      "  0.0806058 ]]\n"
     ]
    }
   ],
   "source": [
    "# Loop through each face in the image\n",
    "for (x, y, w, h) in faces:\n",
    "    # Extract the face region of interest\n",
    "    roi_gray = gray[y:y+h, x:x+w]\n",
    "    \n",
    "    # Resize the ROI to match the input shape of the emotion detection model\n",
    "    roi_gray = cv2.resize(roi_gray, (48, 48))\n",
    "    \n",
    "    # Normalize the pixel values of the ROI to be between 0 and 1\n",
    "    roi_gray = roi_gray / 255.0\n",
    "    \n",
    "    # Make a prediction on the ROI using the emotion detection model\n",
    "    prediction = emotion_model.predict(roi_gray.reshape(1, 48, 48, 1))\n",
    "        \n",
    "    np.save('image_emotion.npy', prediction)\n",
    "    \n",
    "    # Get the emotion label with the highest probability\n",
    "    emotion_label = ['Angry', 'Disgust', 'Fear', 'Happy', 'Sad', 'Surprise', 'Neutral'][np.argmax(prediction)]\n",
    "    \n",
    "    print(prediction)\n",
    "    \n",
    "    # Draw a rectangle around the face and label the detected emotion\n",
    "    cv2.rectangle(img, (x, y), (x+w, y+h), (0, 255, 0), 2)\n",
    "    cv2.putText(img, emotion_label, (x, y), cv2.FONT_HERSHEY_SIMPLEX, 1, (0, 255, 0), 2)"
   ]
  },
  {
   "cell_type": "code",
   "execution_count": 136,
   "id": "17fbe7c5",
   "metadata": {},
   "outputs": [],
   "source": [
    "#resize the image to the screen size\n",
    "screen_res = 1920, 1080\n",
    "img = cv2.resize(img, screen_res)"
   ]
  },
  {
   "cell_type": "code",
   "execution_count": 162,
   "id": "b9bd0b19",
   "metadata": {},
   "outputs": [],
   "source": [
    "# Display the output image\n",
    "cv2.imshow('Emotion Detection', img)\n",
    "cv2.waitKey(0)\n",
    "cv2.destroyAllWindows()"
   ]
  },
  {
   "cell_type": "code",
   "execution_count": null,
   "id": "f51d04c6",
   "metadata": {},
   "outputs": [],
   "source": []
  }
 ],
 "metadata": {
  "kernelspec": {
   "display_name": "Python 3 (ipykernel)",
   "language": "python",
   "name": "python3"
  },
  "language_info": {
   "codemirror_mode": {
    "name": "ipython",
    "version": 3
   },
   "file_extension": ".py",
   "mimetype": "text/x-python",
   "name": "python",
   "nbconvert_exporter": "python",
   "pygments_lexer": "ipython3",
   "version": "3.9.12"
  }
 },
 "nbformat": 4,
 "nbformat_minor": 5
}
