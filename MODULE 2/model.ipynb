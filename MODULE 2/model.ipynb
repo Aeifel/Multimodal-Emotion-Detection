{
 "cells": [
  {
   "cell_type": "code",
   "execution_count": 6,
   "id": "d0504b67",
   "metadata": {},
   "outputs": [],
   "source": [
    "import numpy as np\n",
    "import keras\n",
    "from keras.models import Sequential\n",
    "from keras.layers import Dense, Flatten, Conv2D, MaxPooling2D, Dropout\n",
    "from keras.optimizers import Adam\n",
    "from keras.preprocessing.image import ImageDataGenerator"
   ]
  },
  {
   "cell_type": "code",
   "execution_count": 7,
   "id": "cb3f3f82",
   "metadata": {},
   "outputs": [],
   "source": [
    "# Set the dimensions of the input images\n",
    "img_width, img_height = 48, 48\n",
    "\n",
    "# Set the directories for the training and validation datasets\n",
    "train_data_dir = '../data/train'\n",
    "validation_data_dir = '../data/test'\n",
    "\n",
    "# Set the number of training and validation samples\n",
    "nb_train_samples = 28709\n",
    "nb_validation_samples = 3589\n",
    "\n",
    "# Set the batch size and number of epochs\n",
    "batch_size = 64\n",
    "epochs = 50\n",
    "\n",
    "# Set the number of classes (emotions)\n",
    "num_classes = 7"
   ]
  },
  {
   "cell_type": "code",
   "execution_count": 8,
   "id": "625a8eaf",
   "metadata": {},
   "outputs": [],
   "source": [
    "np.save(\"test_image_data.npy\", validation_data_dir)"
   ]
  },
  {
   "cell_type": "code",
   "execution_count": 9,
   "id": "28784df0",
   "metadata": {},
   "outputs": [],
   "source": [
    "# Create the model\n",
    "model = Sequential()\n",
    "\n",
    "model.add(Conv2D(32, (3, 3), activation='relu', input_shape=(img_width, img_height, 1)))\n",
    "model.add(Conv2D(64, (3, 3), activation='relu'))\n",
    "model.add(MaxPooling2D(pool_size=(2, 2)))\n",
    "model.add(Dropout(0.25))\n",
    "\n",
    "model.add(Conv2D(128, (3, 3), activation='relu'))\n",
    "model.add(MaxPooling2D(pool_size=(2, 2)))\n",
    "model.add(Conv2D(128, (3, 3), activation='relu'))\n",
    "model.add(MaxPooling2D(pool_size=(2, 2)))\n",
    "model.add(Dropout(0.25))\n",
    "\n",
    "model.add(Flatten())\n",
    "model.add(Dense(1024, activation='relu'))\n",
    "model.add(Dropout(0.5))\n",
    "model.add(Dense(num_classes, activation='softmax'))"
   ]
  },
  {
   "cell_type": "code",
   "execution_count": 10,
   "id": "5e72090c",
   "metadata": {},
   "outputs": [
    {
     "name": "stdout",
     "output_type": "stream",
     "text": [
      "Found 28709 images belonging to 7 classes.\n",
      "Found 7178 images belonging to 7 classes.\n"
     ]
    }
   ],
   "source": [
    "# Compile the model\n",
    "model.compile(loss='categorical_crossentropy', optimizer=Adam(lr=0.0001, decay=1e-6), metrics=['accuracy'])\n",
    "\n",
    "# Create the data generators for the training and validation datasets\n",
    "train_datagen = ImageDataGenerator(rescale=1./255, shear_range=0.2, zoom_range=0.2, horizontal_flip=True)\n",
    "validation_datagen = ImageDataGenerator(rescale=1./255)\n",
    "\n",
    "train_generator = train_datagen.flow_from_directory(train_data_dir, color_mode='grayscale', target_size=(img_width, img_height), batch_size=batch_size, class_mode='categorical')\n",
    "validation_generator = validation_datagen.flow_from_directory(validation_data_dir, color_mode='grayscale', target_size=(img_width, img_height), batch_size=batch_size, class_mode='categorical')"
   ]
  },
  {
   "cell_type": "code",
   "execution_count": 5,
   "id": "b9a7c034",
   "metadata": {},
   "outputs": [
    {
     "name": "stderr",
     "output_type": "stream",
     "text": [
      "C:\\Users\\Raghul Pranavesh\\AppData\\Local\\Temp\\ipykernel_2596\\2053929215.py:2: UserWarning: `Model.fit_generator` is deprecated and will be removed in a future version. Please use `Model.fit`, which supports generators.\n",
      "  model.fit_generator(train_generator, steps_per_epoch=nb_train_samples//batch_size, epochs=epochs, validation_data=validation_generator, validation_steps=nb_validation_samples//batch_size)\n"
     ]
    },
    {
     "name": "stdout",
     "output_type": "stream",
     "text": [
      "Epoch 1/50\n",
      "448/448 [==============================] - 823s 2s/step - loss: 1.8105 - accuracy: 0.2545 - val_loss: 1.7554 - val_accuracy: 0.3133\n",
      "Epoch 2/50\n",
      "448/448 [==============================] - 292s 653ms/step - loss: 1.6904 - accuracy: 0.3278 - val_loss: 1.6127 - val_accuracy: 0.3859\n",
      "Epoch 3/50\n",
      "448/448 [==============================] - 280s 624ms/step - loss: 1.6114 - accuracy: 0.3726 - val_loss: 1.5173 - val_accuracy: 0.4185\n",
      "Epoch 4/50\n",
      "448/448 [==============================] - 259s 578ms/step - loss: 1.5547 - accuracy: 0.3959 - val_loss: 1.4673 - val_accuracy: 0.4442\n",
      "Epoch 5/50\n",
      "448/448 [==============================] - 255s 570ms/step - loss: 1.5033 - accuracy: 0.4238 - val_loss: 1.3867 - val_accuracy: 0.4746\n",
      "Epoch 6/50\n",
      "448/448 [==============================] - 227s 506ms/step - loss: 1.4573 - accuracy: 0.4408 - val_loss: 1.3736 - val_accuracy: 0.4713\n",
      "Epoch 7/50\n",
      "448/448 [==============================] - 177s 395ms/step - loss: 1.4193 - accuracy: 0.4552 - val_loss: 1.3252 - val_accuracy: 0.5003\n",
      "Epoch 8/50\n",
      "448/448 [==============================] - 177s 395ms/step - loss: 1.3810 - accuracy: 0.4752 - val_loss: 1.3301 - val_accuracy: 0.4905\n",
      "Epoch 9/50\n",
      "448/448 [==============================] - 177s 395ms/step - loss: 1.3550 - accuracy: 0.4832 - val_loss: 1.2818 - val_accuracy: 0.5156\n",
      "Epoch 10/50\n",
      "448/448 [==============================] - 162s 361ms/step - loss: 1.3238 - accuracy: 0.4950 - val_loss: 1.2166 - val_accuracy: 0.5393\n",
      "Epoch 11/50\n",
      "448/448 [==============================] - 156s 349ms/step - loss: 1.3038 - accuracy: 0.5032 - val_loss: 1.2206 - val_accuracy: 0.5299\n",
      "Epoch 12/50\n",
      "448/448 [==============================] - 150s 334ms/step - loss: 1.2876 - accuracy: 0.5137 - val_loss: 1.2050 - val_accuracy: 0.5396\n",
      "Epoch 13/50\n",
      "448/448 [==============================] - 145s 324ms/step - loss: 1.2637 - accuracy: 0.5230 - val_loss: 1.2133 - val_accuracy: 0.5332\n",
      "Epoch 14/50\n",
      "448/448 [==============================] - 186s 416ms/step - loss: 1.2533 - accuracy: 0.5261 - val_loss: 1.1838 - val_accuracy: 0.5488\n",
      "Epoch 15/50\n",
      "448/448 [==============================] - 150s 336ms/step - loss: 1.2331 - accuracy: 0.5328 - val_loss: 1.1714 - val_accuracy: 0.5552\n",
      "Epoch 16/50\n",
      "448/448 [==============================] - 149s 332ms/step - loss: 1.2186 - accuracy: 0.5384 - val_loss: 1.1598 - val_accuracy: 0.5544\n",
      "Epoch 17/50\n",
      "448/448 [==============================] - 147s 328ms/step - loss: 1.2043 - accuracy: 0.5415 - val_loss: 1.1591 - val_accuracy: 0.5525\n",
      "Epoch 18/50\n",
      "448/448 [==============================] - 148s 329ms/step - loss: 1.1934 - accuracy: 0.5489 - val_loss: 1.1440 - val_accuracy: 0.5689\n",
      "Epoch 19/50\n",
      "448/448 [==============================] - 151s 338ms/step - loss: 1.1828 - accuracy: 0.5508 - val_loss: 1.1308 - val_accuracy: 0.5664\n",
      "Epoch 20/50\n",
      "448/448 [==============================] - 155s 346ms/step - loss: 1.1739 - accuracy: 0.5569 - val_loss: 1.1264 - val_accuracy: 0.5700\n",
      "Epoch 21/50\n",
      "448/448 [==============================] - 155s 347ms/step - loss: 1.1653 - accuracy: 0.5597 - val_loss: 1.1200 - val_accuracy: 0.5748\n",
      "Epoch 22/50\n",
      "448/448 [==============================] - 158s 352ms/step - loss: 1.1539 - accuracy: 0.5649 - val_loss: 1.1259 - val_accuracy: 0.5790\n",
      "Epoch 23/50\n",
      "448/448 [==============================] - 158s 353ms/step - loss: 1.1450 - accuracy: 0.5685 - val_loss: 1.0987 - val_accuracy: 0.5787\n",
      "Epoch 24/50\n",
      "448/448 [==============================] - 177s 395ms/step - loss: 1.1353 - accuracy: 0.5718 - val_loss: 1.1089 - val_accuracy: 0.5767\n",
      "Epoch 25/50\n",
      "448/448 [==============================] - 141s 314ms/step - loss: 1.1233 - accuracy: 0.5789 - val_loss: 1.0871 - val_accuracy: 0.5910\n",
      "Epoch 26/50\n",
      "448/448 [==============================] - 147s 327ms/step - loss: 1.1187 - accuracy: 0.5818 - val_loss: 1.0947 - val_accuracy: 0.5809\n",
      "Epoch 27/50\n",
      "448/448 [==============================] - 166s 371ms/step - loss: 1.1081 - accuracy: 0.5815 - val_loss: 1.0663 - val_accuracy: 0.5974\n",
      "Epoch 28/50\n",
      "448/448 [==============================] - 197s 439ms/step - loss: 1.0990 - accuracy: 0.5846 - val_loss: 1.1197 - val_accuracy: 0.5784\n",
      "Epoch 29/50\n",
      "448/448 [==============================] - 196s 437ms/step - loss: 1.0924 - accuracy: 0.5883 - val_loss: 1.0683 - val_accuracy: 0.6013\n",
      "Epoch 30/50\n",
      "448/448 [==============================] - 177s 395ms/step - loss: 1.0826 - accuracy: 0.5968 - val_loss: 1.0613 - val_accuracy: 0.6052\n",
      "Epoch 31/50\n",
      "448/448 [==============================] - 174s 389ms/step - loss: 1.0800 - accuracy: 0.5948 - val_loss: 1.0741 - val_accuracy: 0.5929\n",
      "Epoch 32/50\n",
      "448/448 [==============================] - 168s 375ms/step - loss: 1.0721 - accuracy: 0.5972 - val_loss: 1.0518 - val_accuracy: 0.6052\n",
      "Epoch 33/50\n",
      "448/448 [==============================] - 241s 539ms/step - loss: 1.0630 - accuracy: 0.6007 - val_loss: 1.0801 - val_accuracy: 0.5898\n",
      "Epoch 34/50\n",
      "448/448 [==============================] - 274s 611ms/step - loss: 1.0578 - accuracy: 0.6006 - val_loss: 1.0184 - val_accuracy: 0.6200\n",
      "Epoch 35/50\n",
      "448/448 [==============================] - 149s 333ms/step - loss: 1.0444 - accuracy: 0.6053 - val_loss: 1.0424 - val_accuracy: 0.6069\n",
      "Epoch 36/50\n",
      "448/448 [==============================] - 157s 350ms/step - loss: 1.0455 - accuracy: 0.6088 - val_loss: 1.0292 - val_accuracy: 0.6169\n",
      "Epoch 37/50\n",
      "448/448 [==============================] - 151s 336ms/step - loss: 1.0369 - accuracy: 0.6134 - val_loss: 1.0359 - val_accuracy: 0.6088\n",
      "Epoch 38/50\n",
      "448/448 [==============================] - 149s 333ms/step - loss: 1.0335 - accuracy: 0.6137 - val_loss: 1.0507 - val_accuracy: 0.6122\n",
      "Epoch 39/50\n",
      "448/448 [==============================] - 152s 339ms/step - loss: 1.0204 - accuracy: 0.6176 - val_loss: 1.0563 - val_accuracy: 0.6018\n",
      "Epoch 40/50\n",
      "448/448 [==============================] - 150s 334ms/step - loss: 1.0145 - accuracy: 0.6190 - val_loss: 1.0352 - val_accuracy: 0.6130\n",
      "Epoch 41/50\n",
      "448/448 [==============================] - 151s 338ms/step - loss: 1.0106 - accuracy: 0.6173 - val_loss: 1.0422 - val_accuracy: 0.6074\n",
      "Epoch 42/50\n",
      "448/448 [==============================] - 148s 330ms/step - loss: 1.0072 - accuracy: 0.6200 - val_loss: 1.0390 - val_accuracy: 0.6099\n",
      "Epoch 43/50\n",
      "448/448 [==============================] - 147s 328ms/step - loss: 0.9995 - accuracy: 0.6309 - val_loss: 1.0028 - val_accuracy: 0.6359\n",
      "Epoch 44/50\n",
      "448/448 [==============================] - 151s 336ms/step - loss: 0.9984 - accuracy: 0.6264 - val_loss: 1.0171 - val_accuracy: 0.6297\n",
      "Epoch 45/50\n",
      "448/448 [==============================] - 151s 338ms/step - loss: 0.9917 - accuracy: 0.6323 - val_loss: 1.0022 - val_accuracy: 0.6390\n",
      "Epoch 46/50\n",
      "448/448 [==============================] - 151s 337ms/step - loss: 0.9819 - accuracy: 0.6338 - val_loss: 1.0266 - val_accuracy: 0.6222\n",
      "Epoch 47/50\n",
      "448/448 [==============================] - 148s 331ms/step - loss: 0.9814 - accuracy: 0.6349 - val_loss: 1.0005 - val_accuracy: 0.6297\n",
      "Epoch 48/50\n",
      "448/448 [==============================] - 147s 327ms/step - loss: 0.9697 - accuracy: 0.6374 - val_loss: 0.9979 - val_accuracy: 0.6309\n",
      "Epoch 49/50\n",
      "448/448 [==============================] - 149s 333ms/step - loss: 0.9665 - accuracy: 0.6379 - val_loss: 1.0067 - val_accuracy: 0.6300\n",
      "Epoch 50/50\n",
      "448/448 [==============================] - 152s 340ms/step - loss: 0.9595 - accuracy: 0.6422 - val_loss: 0.9889 - val_accuracy: 0.6376\n"
     ]
    },
    {
     "data": {
      "text/plain": [
       "<keras.callbacks.History at 0x185252ac8b0>"
      ]
     },
     "execution_count": 5,
     "metadata": {},
     "output_type": "execute_result"
    }
   ],
   "source": [
    "# Train the model\n",
    "model.fit_generator(train_generator, steps_per_epoch=nb_train_samples//batch_size, epochs=epochs, validation_data=validation_generator, validation_steps=nb_validation_samples//batch_size)"
   ]
  },
  {
   "cell_type": "code",
   "execution_count": 11,
   "id": "638925d2",
   "metadata": {},
   "outputs": [
    {
     "name": "stdout",
     "output_type": "stream",
     "text": [
      "Model: \"sequential_1\"\n",
      "_________________________________________________________________\n",
      " Layer (type)                Output Shape              Param #   \n",
      "=================================================================\n",
      " conv2d_4 (Conv2D)           (None, 46, 46, 32)        320       \n",
      "                                                                 \n",
      " conv2d_5 (Conv2D)           (None, 44, 44, 64)        18496     \n",
      "                                                                 \n",
      " max_pooling2d_3 (MaxPooling  (None, 22, 22, 64)       0         \n",
      " 2D)                                                             \n",
      "                                                                 \n",
      " dropout_3 (Dropout)         (None, 22, 22, 64)        0         \n",
      "                                                                 \n",
      " conv2d_6 (Conv2D)           (None, 20, 20, 128)       73856     \n",
      "                                                                 \n",
      " max_pooling2d_4 (MaxPooling  (None, 10, 10, 128)      0         \n",
      " 2D)                                                             \n",
      "                                                                 \n",
      " conv2d_7 (Conv2D)           (None, 8, 8, 128)         147584    \n",
      "                                                                 \n",
      " max_pooling2d_5 (MaxPooling  (None, 4, 4, 128)        0         \n",
      " 2D)                                                             \n",
      "                                                                 \n",
      " dropout_4 (Dropout)         (None, 4, 4, 128)         0         \n",
      "                                                                 \n",
      " flatten_1 (Flatten)         (None, 2048)              0         \n",
      "                                                                 \n",
      " dense_2 (Dense)             (None, 1024)              2098176   \n",
      "                                                                 \n",
      " dropout_5 (Dropout)         (None, 1024)              0         \n",
      "                                                                 \n",
      " dense_3 (Dense)             (None, 7)                 7175      \n",
      "                                                                 \n",
      "=================================================================\n",
      "Total params: 2,345,607\n",
      "Trainable params: 2,345,607\n",
      "Non-trainable params: 0\n",
      "_________________________________________________________________\n",
      "None\n"
     ]
    }
   ],
   "source": [
    "print(model.summary())"
   ]
  },
  {
   "cell_type": "code",
   "execution_count": 6,
   "id": "b2db78c7",
   "metadata": {},
   "outputs": [],
   "source": [
    "# Save the model\n",
    "model.save('fer_model.h5')"
   ]
  },
  {
   "cell_type": "code",
   "execution_count": null,
   "id": "e08d98e1",
   "metadata": {},
   "outputs": [],
   "source": []
  }
 ],
 "metadata": {
  "kernelspec": {
   "display_name": "Python 3 (ipykernel)",
   "language": "python",
   "name": "python3"
  },
  "language_info": {
   "codemirror_mode": {
    "name": "ipython",
    "version": 3
   },
   "file_extension": ".py",
   "mimetype": "text/x-python",
   "name": "python",
   "nbconvert_exporter": "python",
   "pygments_lexer": "ipython3",
   "version": "3.9.12"
  }
 },
 "nbformat": 4,
 "nbformat_minor": 5
}
