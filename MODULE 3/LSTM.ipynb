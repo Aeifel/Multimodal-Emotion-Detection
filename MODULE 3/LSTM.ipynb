{
 "cells": [
  {
   "cell_type": "code",
   "execution_count": null,
   "metadata": {
    "colab": {
     "base_uri": "https://localhost:8080/"
    },
    "id": "xO7HST_jjodM",
    "outputId": "ef16d03f-5544-4d96-a095-43f3e83cb0a9"
   },
   "outputs": [
    {
     "name": "stdout",
     "output_type": "stream",
     "text": [
      "Drive already mounted at /content/drive; to attempt to forcibly remount, call drive.mount(\"/content/drive\", force_remount=True).\n"
     ]
    }
   ],
   "source": [
    "from google.colab import drive\n",
    "drive.mount('/content/drive')"
   ]
  },
  {
   "cell_type": "code",
   "execution_count": null,
   "metadata": {
    "colab": {
     "base_uri": "https://localhost:8080/"
    },
    "id": "rbTFCCmSkBzV",
    "outputId": "5f5b9e44-b655-468d-b754-7daebc5ae6b9"
   },
   "outputs": [
    {
     "name": "stdout",
     "output_type": "stream",
     "text": [
      "/content/drive/MyDrive/Colab Notebooks\n",
      " archive.zip\n",
      " BLOCK_DIAGRAM_WORD.docx\n",
      "'Copy of emotion_detection.ipynb'\n",
      "'Emotion Dataset for NLP'\n",
      " emotion_detection.ipynb\n",
      "'Emotion From Text - LSTM.ipynb'\n",
      " facial_expressions.h5\n",
      " FER_63\n",
      " fer_model.h5\n",
      " glove.6B.100d.txt\n",
      " glove.6B.200d.txt\n",
      " glove.6B.300d.txt\n",
      " glove.6B.50d.txt\n",
      "'GloVe + Emotion From Text - LSTM.ipynb'\n",
      " gloVe-practice.ipynb\n",
      "'Image Classification CNN Keras Dataset'\n",
      "'Image Classification using CNN Keras.ipynb'\n",
      " Late_fusion-CIP.ipynb\n",
      " lena.jpg\n",
      " LSTM.ipynb\n",
      " Markov_Chain.ipynb\n",
      " model.ipynb\n",
      " module3_model.h5\n",
      " NormalizedNerd-master\n",
      "'SMOTE Emo - LSTM.ipynb'\n",
      "'SMOTE Emo - User Input- LSTM.ipynb'\n",
      " Team4_Week8_50%.ipynb\n",
      " test\n",
      " text_emotion.csv\n",
      " text_emotion.gsheet\n",
      " TextEmotionLSTM\n",
      " Text_Summarization-master\n",
      " train\n",
      " training.log\n",
      " Uber-Pickups-LSTM.ipynb\n",
      " uber-raw-data-janjune-15.csv\n",
      " Untitled\n",
      " Untitled0.ipynb\n",
      " Untitled1.ipynb\n",
      " Untitled2.ipynb\n",
      " Word2Vec-practice.ipynb\n"
     ]
    }
   ],
   "source": [
    "%cd drive/MyDrive/\"Colab Notebooks\"\n",
    "!ls"
   ]
  },
  {
   "cell_type": "markdown",
   "metadata": {
    "id": "KsGF6XS2sxFg"
   },
   "source": [
    "<h1>Importing <b>NLTK Library</b> </h1>"
   ]
  },
  {
   "cell_type": "code",
   "execution_count": null,
   "metadata": {},
   "outputs": [],
   "source": [
    "# nltk.download()\n",
    "nltk.download('punkt')\n",
    "nltk.download('stopwords')\n",
    "nltk.download('wordnet')\n",
    "nltk.download('omw-1.4')\n",
    "nltk.download('averaged_perceptron_tagger')"
   ]
  },
  {
   "cell_type": "code",
   "execution_count": 2,
   "metadata": {
    "colab": {
     "base_uri": "https://localhost:8080/"
    },
    "id": "Cllc1ctLkcCJ",
    "outputId": "c5be7eed-0435-492c-9814-6faae079fb7f"
   },
   "outputs": [],
   "source": [
    "import nltk\n",
    "from nltk.tokenize import sent_tokenize, word_tokenize\n",
    "from nltk.corpus import stopwords\n",
    "from nltk.stem import PorterStemmer\n",
    "from nltk.stem.wordnet import WordNetLemmatizer"
   ]
  },
  {
   "cell_type": "markdown",
   "metadata": {
    "id": "67ikq6PKtP-b"
   },
   "source": [
    "<h2>Importing Necessary Libraries</h2>"
   ]
  },
  {
   "cell_type": "code",
   "execution_count": 3,
   "metadata": {
    "id": "PjvxuVzbkj6m"
   },
   "outputs": [],
   "source": [
    "import pandas as pd\n",
    "import numpy as np\n",
    "from tensorflow.keras.preprocessing.sequence import pad_sequences\n",
    "from keras.preprocessing.text import Tokenizer\n",
    "from sklearn.model_selection import train_test_split\n",
    "from keras.models import Sequential\n",
    "from keras.layers import Dense, Dropout, Embedding, LSTM, SpatialDropout1D"
   ]
  },
  {
   "cell_type": "code",
   "execution_count": 4,
   "metadata": {
    "colab": {
     "base_uri": "https://localhost:8080/"
    },
    "id": "Tu_wZ869kpGg",
    "outputId": "d75f207b-24e7-47b8-854c-f38e73cae1f6"
   },
   "outputs": [
    {
     "name": "stdout",
     "output_type": "stream",
     "text": [
      "(7516, 2)\n"
     ]
    }
   ],
   "source": [
    "#loading text emotion dataset\n",
    "data = pd.read_csv('../data/text_emotion.csv')      \n",
    "\n",
    "print(data.shape)\n",
    "\n",
    "#removing unwanted instances in dataset\n",
    "data.drop(data.index[(data[\"Emotion\"] == \"guit\")],axis=0,inplace=True)        "
   ]
  },
  {
   "cell_type": "code",
   "execution_count": 5,
   "metadata": {
    "colab": {
     "base_uri": "https://localhost:8080/",
     "height": 204
    },
    "id": "1q7HjR0Udl-e",
    "outputId": "f8e50f40-7724-47fb-9ca4-35fc9bfd8ee6"
   },
   "outputs": [
    {
     "data": {
      "text/html": [
       "<div>\n",
       "<style scoped>\n",
       "    .dataframe tbody tr th:only-of-type {\n",
       "        vertical-align: middle;\n",
       "    }\n",
       "\n",
       "    .dataframe tbody tr th {\n",
       "        vertical-align: top;\n",
       "    }\n",
       "\n",
       "    .dataframe thead th {\n",
       "        text-align: right;\n",
       "    }\n",
       "</style>\n",
       "<table border=\"1\" class=\"dataframe\">\n",
       "  <thead>\n",
       "    <tr style=\"text-align: right;\">\n",
       "      <th></th>\n",
       "      <th>index</th>\n",
       "      <th>Emotion</th>\n",
       "      <th>Text</th>\n",
       "    </tr>\n",
       "  </thead>\n",
       "  <tbody>\n",
       "    <tr>\n",
       "      <th>0</th>\n",
       "      <td>5695</td>\n",
       "      <td>joy</td>\n",
       "      <td>After being depressed because of a very bad re...</td>\n",
       "    </tr>\n",
       "    <tr>\n",
       "      <th>1</th>\n",
       "      <td>946</td>\n",
       "      <td>fear</td>\n",
       "      <td>In Sweden, a friend and I lived in an appartme...</td>\n",
       "    </tr>\n",
       "    <tr>\n",
       "      <th>2</th>\n",
       "      <td>5135</td>\n",
       "      <td>disgust</td>\n",
       "      <td>One evening when a boy who was drunk made a pa...</td>\n",
       "    </tr>\n",
       "    <tr>\n",
       "      <th>3</th>\n",
       "      <td>984</td>\n",
       "      <td>disgust</td>\n",
       "      <td>A series about Freud was shown on TV.  In it, ...</td>\n",
       "    </tr>\n",
       "    <tr>\n",
       "      <th>4</th>\n",
       "      <td>802</td>\n",
       "      <td>fear</td>\n",
       "      <td>The house was on fire, and I was saved by the ...</td>\n",
       "    </tr>\n",
       "  </tbody>\n",
       "</table>\n",
       "</div>"
      ],
      "text/plain": [
       "   index  Emotion                                               Text\n",
       "0   5695      joy  After being depressed because of a very bad re...\n",
       "1    946     fear  In Sweden, a friend and I lived in an appartme...\n",
       "2   5135  disgust  One evening when a boy who was drunk made a pa...\n",
       "3    984  disgust  A series about Freud was shown on TV.  In it, ...\n",
       "4    802     fear  The house was on fire, and I was saved by the ..."
      ]
     },
     "execution_count": 5,
     "metadata": {},
     "output_type": "execute_result"
    }
   ],
   "source": [
    "data = data.sample(frac=1, random_state=1).reset_index()\n",
    "data.head()"
   ]
  },
  {
   "cell_type": "markdown",
   "metadata": {
    "id": "HAr1ouITt0wm"
   },
   "source": [
    "<h1>Preprocessing, Stemming And Lemming</h1>"
   ]
  },
  {
   "cell_type": "code",
   "execution_count": 6,
   "metadata": {
    "id": "xY_GsnGTlLD7"
   },
   "outputs": [],
   "source": [
    "x = []\n",
    "stop_words=set(stopwords.words(\"english\"))\n",
    "ps = PorterStemmer()\n",
    "lem = WordNetLemmatizer()\n",
    "\n",
    "for ent in data['Emotion']:\n",
    "\n",
    "    # Word Tokenization\n",
    "    tokenized_text=word_tokenize(ent)\n",
    "\n",
    "    # StopWord Removal\n",
    "    filtered_sent=[]\n",
    "    for w in tokenized_text:\n",
    "        if w not in stop_words:\n",
    "            filtered_sent.append(w)\n",
    "  \n",
    "    # Stemming And Lemming\n",
    "    stemmed_words=[]\n",
    "    lemmed_words=[]\n",
    "    for u in filtered_sent:\n",
    "        stemmed_words.append(ps.stem(u))\n",
    "        lemmed_words.append(lem.lemmatize(u))\n",
    "\n",
    "\n",
    "    # filtering all the punctuations\n",
    "    import string\n",
    "    table = str.maketrans('', '', string.punctuation)\n",
    "    stripped = [v.translate(table) for v in lemmed_words]\n",
    "    words = [word for word in stripped if word.isalpha()]\n",
    "\n",
    "    clean_text = ''\n",
    "    for z in words:\n",
    "        clean_text += ' ' + z\n",
    "\n",
    "    x.append(clean_text)"
   ]
  },
  {
   "cell_type": "code",
   "execution_count": 7,
   "metadata": {
    "colab": {
     "base_uri": "https://localhost:8080/",
     "height": 204
    },
    "id": "f7J4-m3-lk5Z",
    "outputId": "01580359-b235-4502-9f9e-a6f5c94655f5"
   },
   "outputs": [
    {
     "data": {
      "text/html": [
       "<div>\n",
       "<style scoped>\n",
       "    .dataframe tbody tr th:only-of-type {\n",
       "        vertical-align: middle;\n",
       "    }\n",
       "\n",
       "    .dataframe tbody tr th {\n",
       "        vertical-align: top;\n",
       "    }\n",
       "\n",
       "    .dataframe thead th {\n",
       "        text-align: right;\n",
       "    }\n",
       "</style>\n",
       "<table border=\"1\" class=\"dataframe\">\n",
       "  <thead>\n",
       "    <tr style=\"text-align: right;\">\n",
       "      <th></th>\n",
       "      <th>index</th>\n",
       "      <th>Emotion</th>\n",
       "      <th>Text</th>\n",
       "      <th>clean_tweet</th>\n",
       "      <th>tweet_len</th>\n",
       "    </tr>\n",
       "  </thead>\n",
       "  <tbody>\n",
       "    <tr>\n",
       "      <th>0</th>\n",
       "      <td>5695</td>\n",
       "      <td>joy</td>\n",
       "      <td>After being depressed because of a very bad re...</td>\n",
       "      <td>joy</td>\n",
       "      <td>4</td>\n",
       "    </tr>\n",
       "    <tr>\n",
       "      <th>1</th>\n",
       "      <td>946</td>\n",
       "      <td>fear</td>\n",
       "      <td>In Sweden, a friend and I lived in an appartme...</td>\n",
       "      <td>fear</td>\n",
       "      <td>5</td>\n",
       "    </tr>\n",
       "    <tr>\n",
       "      <th>2</th>\n",
       "      <td>5135</td>\n",
       "      <td>disgust</td>\n",
       "      <td>One evening when a boy who was drunk made a pa...</td>\n",
       "      <td>disgust</td>\n",
       "      <td>8</td>\n",
       "    </tr>\n",
       "    <tr>\n",
       "      <th>3</th>\n",
       "      <td>984</td>\n",
       "      <td>disgust</td>\n",
       "      <td>A series about Freud was shown on TV.  In it, ...</td>\n",
       "      <td>disgust</td>\n",
       "      <td>8</td>\n",
       "    </tr>\n",
       "    <tr>\n",
       "      <th>4</th>\n",
       "      <td>802</td>\n",
       "      <td>fear</td>\n",
       "      <td>The house was on fire, and I was saved by the ...</td>\n",
       "      <td>fear</td>\n",
       "      <td>5</td>\n",
       "    </tr>\n",
       "  </tbody>\n",
       "</table>\n",
       "</div>"
      ],
      "text/plain": [
       "   index  Emotion                                               Text  \\\n",
       "0   5695      joy  After being depressed because of a very bad re...   \n",
       "1    946     fear  In Sweden, a friend and I lived in an appartme...   \n",
       "2   5135  disgust  One evening when a boy who was drunk made a pa...   \n",
       "3    984  disgust  A series about Freud was shown on TV.  In it, ...   \n",
       "4    802     fear  The house was on fire, and I was saved by the ...   \n",
       "\n",
       "  clean_tweet  tweet_len  \n",
       "0         joy          4  \n",
       "1        fear          5  \n",
       "2     disgust          8  \n",
       "3     disgust          8  \n",
       "4        fear          5  "
      ]
     },
     "execution_count": 7,
     "metadata": {},
     "output_type": "execute_result"
    }
   ],
   "source": [
    "data['clean_tweet'] = x\n",
    "data['tweet_len'] = data['clean_tweet'].apply(len)\n",
    "data.head()"
   ]
  },
  {
   "cell_type": "code",
   "execution_count": 8,
   "metadata": {
    "colab": {
     "base_uri": "https://localhost:8080/",
     "height": 313
    },
    "id": "w8vM4z9YzIt2",
    "outputId": "580cd244-c00f-46d4-9c99-9edae4a7fab9"
   },
   "outputs": [
    {
     "data": {
      "text/plain": [
       "<AxesSubplot:>"
      ]
     },
     "execution_count": 8,
     "metadata": {},
     "output_type": "execute_result"
    },
    {
     "data": {
      "image/png": "[encoded data removed]",
      "text/plain": [
       "<Figure size 432x288 with 1 Axes>"
      ]
     },
     "metadata": {
      "needs_background": "light"
     },
     "output_type": "display_data"
    }
   ],
   "source": [
    "data['Emotion'].value_counts().plot(kind='bar', stacked=False)"
   ]
  },
  {
   "cell_type": "code",
   "execution_count": 9,
   "metadata": {
    "colab": {
     "base_uri": "https://localhost:8080/"
    },
    "id": "unLnykibF6Ft",
    "outputId": "c3abda62-65cc-4fb1-8ac3-4cfe7be82ab2"
   },
   "outputs": [
    {
     "data": {
      "text/plain": [
       "array([' joy', ' fear', ' disgust', ..., ' shame', ' disgust', ' shame'],\n",
       "      dtype=object)"
      ]
     },
     "execution_count": 9,
     "metadata": {},
     "output_type": "execute_result"
    }
   ],
   "source": [
    "data['clean_tweet'].values"
   ]
  },
  {
   "cell_type": "code",
   "execution_count": 10,
   "metadata": {
    "id": "-5o73OGLz-na"
   },
   "outputs": [],
   "source": [
    "max_words = 2000\n",
    "tokenizer = Tokenizer(num_words=max_words, split=' ')\n",
    "tokenizer.fit_on_texts(data['clean_tweet'].values)\n",
    "X = tokenizer.texts_to_sequences(data['clean_tweet'].values)\n",
    "X = pad_sequences(X, maxlen=32)"
   ]
  },
  {
   "cell_type": "markdown",
   "metadata": {
    "id": "YJL-O7jHwDo_"
   },
   "source": [
    "<h3>Test, Train Split</h3>"
   ]
  },
  {
   "cell_type": "code",
   "execution_count": 11,
   "metadata": {
    "colab": {
     "base_uri": "https://localhost:8080/"
    },
    "id": "7HHQg9OB0VeO",
    "outputId": "d1f56b62-4b0e-4e52-aef2-65710307a589"
   },
   "outputs": [
    {
     "name": "stdout",
     "output_type": "stream",
     "text": [
      "(6012, 32) (6012, 7)\n",
      "(1503, 32) (1503, 7)\n"
     ]
    }
   ],
   "source": [
    "dummies = pd.get_dummies(data['Emotion'])\n",
    "Y = dummies.values\n",
    "X_train, X_test, Y_train, Y_test = train_test_split(X,Y, test_size = 0.2, random_state = 50)\n",
    "print(X_train.shape,Y_train.shape)\n",
    "print(X_test.shape,Y_test.shape)"
   ]
  },
  {
   "cell_type": "code",
   "execution_count": 12,
   "metadata": {
    "colab": {
     "base_uri": "https://localhost:8080/"
    },
    "id": "WEDjCsbGHPIK",
    "outputId": "936b2e03-2216-47c0-fb33-087521c0d6b0"
   },
   "outputs": [
    {
     "data": {
      "text/plain": [
       "array([[1, 0, 0, 0, 0, 0, 0],\n",
       "       [0, 0, 0, 0, 0, 1, 0],\n",
       "       [1, 0, 0, 0, 0, 0, 0],\n",
       "       [0, 0, 0, 0, 1, 0, 0],\n",
       "       [0, 0, 0, 0, 1, 0, 0],\n",
       "       [1, 0, 0, 0, 0, 0, 0],\n",
       "       [0, 0, 0, 0, 1, 0, 0],\n",
       "       [1, 0, 0, 0, 0, 0, 0],\n",
       "       [0, 0, 0, 0, 0, 0, 1],\n",
       "       [0, 0, 1, 0, 0, 0, 0],\n",
       "       [0, 0, 1, 0, 0, 0, 0],\n",
       "       [0, 0, 0, 0, 0, 0, 1],\n",
       "       [0, 0, 0, 0, 0, 0, 1],\n",
       "       [0, 1, 0, 0, 0, 0, 0]], dtype=uint8)"
      ]
     },
     "execution_count": 12,
     "metadata": {},
     "output_type": "execute_result"
    }
   ],
   "source": [
    "Y[-15:-1]"
   ]
  },
  {
   "cell_type": "code",
   "execution_count": 13,
   "metadata": {
    "id": "XiJYJwht0cpt"
   },
   "outputs": [
    {
     "name": "stdout",
     "output_type": "stream",
     "text": [
      "{'joy': 4, 'fear': 2, 'disgust': 1, 'shame': 6, 'anger': 0, 'sadness': 5, 'guilt': 3} {4: 'joy', 2: 'fear', 1: 'disgust', 6: 'shame', 0: 'anger', 5: 'sadness', 3: 'guilt'}\n"
     ]
    }
   ],
   "source": [
    "dict_emotion = {}\n",
    "dict_label = {}\n",
    "for i in range(len(Y)):\n",
    "    dict_emotion[data['Emotion'][i]] = np.argmax(Y[i])\n",
    "    dict_label[np.argmax(Y[i])] = data['Emotion'][i]\n",
    "    if len(dict_emotion) == 13:\n",
    "        print('Break at: ', i)\n",
    "        break\n",
    "        \n",
    "print(dict_emotion, dict_label)"
   ]
  },
  {
   "cell_type": "code",
   "execution_count": 14,
   "metadata": {
    "id": "acyuomIN0j4z"
   },
   "outputs": [],
   "source": [
    "X_val = X_train[:5000]\n",
    "Y_val = Y_train[:5000]\n",
    "partial_X_train = X_train[5000:]\n",
    "partial_Y_train = Y_train[5000:]"
   ]
  },
  {
   "cell_type": "code",
   "execution_count": 15,
   "metadata": {
    "colab": {
     "base_uri": "https://localhost:8080/"
    },
    "id": "uc3AcCW2L0RN",
    "outputId": "6989e975-6c29-48c8-8476-32a49fda3a29"
   },
   "outputs": [
    {
     "name": "stdout",
     "output_type": "stream",
     "text": [
      "(6012, 32, 1) (6012, 7)\n",
      "(1503, 32, 1) (1503, 7)\n"
     ]
    }
   ],
   "source": [
    "X_train = X_train.reshape(X_train.shape[0], X_train.shape[1], 1)\n",
    "X_test = X_test.reshape(X_test.shape[0], X_test.shape[1], 1)\n",
    "print(X_train.shape,Y_train.shape)\n",
    "print(X_test.shape,Y_test.shape)"
   ]
  },
  {
   "cell_type": "markdown",
   "metadata": {
    "id": "hk69ix1kvWru"
   },
   "source": [
    "<h2>Hyperparameter Adjustment and Model Initialisation</h2>"
   ]
  },
  {
   "cell_type": "code",
   "execution_count": 16,
   "metadata": {
    "colab": {
     "base_uri": "https://localhost:8080/"
    },
    "id": "aRv680w00P5J",
    "outputId": "11452f1c-d362-428b-e5a8-424cdca0f8d1"
   },
   "outputs": [
    {
     "name": "stdout",
     "output_type": "stream",
     "text": [
      "Model: \"sequential\"\n",
      "_________________________________________________________________\n",
      " Layer (type)                Output Shape              Param #   \n",
      "=================================================================\n",
      " embedding (Embedding)       (None, 32, 256)           512000    \n",
      "                                                                 \n",
      " lstm (LSTM)                 (None, 257)               528392    \n",
      "                                                                 \n",
      " dense (Dense)               (None, 7)                 1806      \n",
      "                                                                 \n",
      "=================================================================\n",
      "Total params: 1,042,198\n",
      "Trainable params: 1,042,198\n",
      "Non-trainable params: 0\n",
      "_________________________________________________________________\n",
      "None\n"
     ]
    }
   ],
   "source": [
    "enbedding_out_dim = 256\n",
    "lstm_out_dim = 256\n",
    "\n",
    "model = Sequential()\n",
    "model.add(Embedding(max_words, enbedding_out_dim,input_length = X.shape[1]))\n",
    "model.add(LSTM(lstm_out_dim+1))\n",
    "model.add(Dense(7,activation='softmax'))\n",
    "model.compile(loss = 'categorical_crossentropy', optimizer='adam',metrics = ['accuracy'])\n",
    "print(model.summary())"
   ]
  },
  {
   "cell_type": "markdown",
   "metadata": {
    "id": "hPJMcM7DwVMd"
   },
   "source": [
    "<h2>Fitting the Model and Validation</h2>"
   ]
  },
  {
   "cell_type": "code",
   "execution_count": 37,
   "metadata": {
    "colab": {
     "background_save": true,
     "base_uri": "https://localhost:8080/"
    },
    "id": "O-3C-Js20ys7",
    "outputId": "8e332621-8260-4c28-ded4-a926385cafb4"
   },
   "outputs": [
    {
     "name": "stdout",
     "output_type": "stream",
     "text": [
      "(6012, 32, 1)\n",
      "(6012, 7)\n",
      "94/94 [==============================] - 14s 137ms/step - loss: 1.2416e-04 - accuracy: 1.0000 - val_loss: 1.1384e-04 - val_accuracy: 1.0000\n"
     ]
    }
   ],
   "source": [
    "print(X_train.shape)\n",
    "print(Y_train.shape)\n",
    "\n",
    "batch_size = 64\n",
    "history = model.fit(X_train,Y_train, epochs = 1, batch_size=batch_size, validation_data=(X_val, Y_val))"
   ]
  },
  {
   "cell_type": "code",
   "execution_count": 38,
   "metadata": {
    "id": "61Q2dweLxx7C"
   },
   "outputs": [],
   "source": [
    "# # # Save the model\n",
    "model.save('SentimentAnalyser.h5')"
   ]
  },
  {
   "cell_type": "code",
   "execution_count": 39,
   "metadata": {},
   "outputs": [],
   "source": [
    "from keras.models import load_model\n",
    "\n",
    "model = load_model('../SentimentAnalyser.h5')"
   ]
  },
  {
   "cell_type": "code",
   "execution_count": 40,
   "metadata": {
    "id": "t-o512OG06nh"
   },
   "outputs": [
    {
     "data": {
      "image/png": "[encoded data removed]",
      "text/plain": [
       "<Figure size 432x288 with 1 Axes>"
      ]
     },
     "metadata": {
      "needs_background": "light"
     },
     "output_type": "display_data"
    }
   ],
   "source": [
    "import matplotlib.pyplot as plt\n",
    "\n",
    "loss = history.history['loss']\n",
    "val_loss = history.history['val_loss']\n",
    "epochs = range(1, len(loss) + 1)\n",
    "plt.plot(epochs, loss, 'r', label='Training loss')\n",
    "plt.plot(epochs, val_loss, 'b', label='Validation loss')\n",
    "plt.title('Training and validation loss')\n",
    "plt.xlabel('Epochs')\n",
    "plt.ylabel('Loss')\n",
    "plt.legend()\n",
    "plt.show()"
   ]
  },
  {
   "cell_type": "code",
   "execution_count": 41,
   "metadata": {
    "id": "xJMuH02Y_BDL"
   },
   "outputs": [
    {
     "name": "stdout",
     "output_type": "stream",
     "text": [
      "47/47 [==============================] - 2s 44ms/step\n"
     ]
    }
   ],
   "source": [
    "predict = model.predict(X_test)"
   ]
  },
  {
   "cell_type": "code",
   "execution_count": null,
   "metadata": {},
   "outputs": [],
   "source": []
  },
  {
   "cell_type": "code",
   "execution_count": 42,
   "metadata": {
    "id": "DVBB5Eoq_CDD"
   },
   "outputs": [],
   "source": [
    "emotion_Y_predicted = np.zeros(predict.shape)\n",
    "\n",
    "for i in range (0,len(predict)):\n",
    "    u = predict[i]\n",
    "    v = np.argmax(u)\n",
    "    emotion_Y_predicted[i][v] = 1"
   ]
  },
  {
   "cell_type": "code",
   "execution_count": 43,
   "metadata": {
    "id": "r_YxOkmA_F3a"
   },
   "outputs": [],
   "source": [
    "correct_count = 0\n",
    "total_count = 0\n",
    "\n",
    "for j in range(0, predict.shape[0]):\n",
    "    \n",
    "    total_count += 1\n",
    "    \n",
    "    if np.array_equal(Y_test[j], emotion_Y_predicted[j]) == True:\n",
    "        \n",
    "        correct_count += 1"
   ]
  },
  {
   "cell_type": "code",
   "execution_count": 44,
   "metadata": {
    "id": "OG7EZKkK_Ivx"
   },
   "outputs": [
    {
     "name": "stdout",
     "output_type": "stream",
     "text": [
      "Correct Count :  1503\n",
      "\n",
      "Total Count :  1503\n"
     ]
    }
   ],
   "source": [
    "print(\"Correct Count : \", correct_count)\n",
    "print(\"\\nTotal Count : \", total_count)"
   ]
  },
  {
   "cell_type": "code",
   "execution_count": 45,
   "metadata": {
    "id": "3dLY20td_LrG"
   },
   "outputs": [
    {
     "name": "stdout",
     "output_type": "stream",
     "text": [
      "Accuracy Score :  1.0\n",
      "F1 Score :  1.0\n"
     ]
    }
   ],
   "source": [
    "from sklearn.metrics import accuracy_score, f1_score\n",
    "\n",
    "print(\"Accuracy Score : \", accuracy_score(Y_test, emotion_Y_predicted ))\n",
    "print(\"F1 Score : \", f1_score(Y_test, emotion_Y_predicted, average='weighted' ))"
   ]
  },
  {
   "cell_type": "code",
   "execution_count": 46,
   "metadata": {
    "id": "P11-E4zR0Fcl"
   },
   "outputs": [],
   "source": [
    "def preprocess(input):\n",
    "    words = word_tokenize(input)\n",
    "    stop_removed_words = []\n",
    "    punc_removed_words = []\n",
    "    lemmed_words = []\n",
    "  \n",
    "    for word in words:\n",
    "        if word not in stop_words:\n",
    "            stop_removed_words.append(word)\n",
    "\n",
    "    table1 = str.maketrans('', '', string.punctuation)\n",
    "    stripped = [v.translate(table1) for v in stop_removed_words]\n",
    "    punc_removed_words = [word for word in stripped if word.isalpha()]\n",
    "  \n",
    "    for pun_word in punc_removed_words:\n",
    "        lemmed_words.append(lem.lemmatize(pun_word))\n",
    "\n",
    "    clean_text = ''\n",
    "    for z in lemmed_words:\n",
    "        clean_text += ' ' + z\n",
    "\n",
    "    return clean_text"
   ]
  },
  {
   "cell_type": "code",
   "execution_count": 116,
   "metadata": {
    "id": "1ZEPDNTkZzqn"
   },
   "outputs": [],
   "source": [
    "final_obj = []\n",
    "final_emotion = 'NILL'\n",
    "def getInput(ud):\n",
    "    \n",
    "    final_obj.clear()\n",
    "    \n",
    "    for i in ud:\n",
    "        final = preprocess(i)\n",
    "        final_obj.append(final)\n",
    "\n",
    "    new_tokenizer = Tokenizer(num_words=max_words, split=' ')\n",
    "    new_tokenizer.fit_on_texts(final_obj)\n",
    "\n",
    "    X_input = new_tokenizer.texts_to_sequences(final_obj)\n",
    "    \n",
    "    X_input = pad_sequences(X_input, maxlen=32)\n",
    "\n",
    "    emotion_dataset_dummies = pd.get_dummies(data['Emotion'])\n",
    "    emotion_dataset_Y = emotion_dataset_dummies.values\n",
    "     \n",
    "    predict = model.predict(X_input)\n",
    "    \n",
    "    print(predict)\n",
    "  \n",
    "    np.save(\"text_emotion.npy\", predict)\n",
    "    \n",
    "    emotion_Y_predicted = np.zeros(predict.shape)\n",
    "    \n",
    "    for i in range (0,len(predict)):\n",
    "        u = predict[i]\n",
    "        v = np.argmax(u)\n",
    "        emotion_Y_predicted[i][v] = 1\n",
    "    \n",
    "    final_emotion = dict_label.get(v)\n",
    "    print(final_emotion)"
   ]
  },
  {
   "cell_type": "code",
   "execution_count": 171,
   "metadata": {
    "colab": {
     "base_uri": "https://localhost:8080/"
    },
    "id": "35t7HRKoa7IS",
    "outputId": "ecfb03bc-4e5f-4466-c056-7092bd8ba90e"
   },
   "outputs": [
    {
     "name": "stdout",
     "output_type": "stream",
     "text": [
      "1/1 [==============================] - 0s 37ms/step\n",
      "[[0.1477422  0.17333654 0.11325449 0.1312013  0.17924011 0.11453625\n",
      "  0.14068905]]\n",
      "joy\n"
     ]
    }
   ],
   "source": [
    "filename = '../Module I/extracted_text.txt'\n",
    "\n",
    "with open(filename, 'r') as file:\n",
    "    file_contents = file.read()\n",
    "\n",
    "ud = []\n",
    "\n",
    "ud.append(file_contents)\n",
    "getInput(ud)"
   ]
  },
  {
   "cell_type": "code",
   "execution_count": 172,
   "metadata": {
    "colab": {
     "base_uri": "https://localhost:8080/"
    },
    "id": "_ilNTQYbwOZG",
    "outputId": "5ed2af62-db3f-4f97-a527-116104eab48b"
   },
   "outputs": [
    {
     "name": "stdout",
     "output_type": "stream",
     "text": [
      "Input  :   robertdowneyjr e RIP Bob D Sr Last night dad passed peacefully sleep year enduring ravage Parkinson s true maverick filmmaker remained remarkably optimistic throughout According stepmoms calculation happily married year Rosemary RogersDowney saint thought prayer \n",
      "Output :  joy \n",
      "\n",
      "\n"
     ]
    }
   ],
   "source": [
    "print(\"Input  : \" , final_obj[0], \"\\nOutput : \", dict_label.get(np.argmax(emotion_Y_predicted[0])), \"\\n\\n\" )"
   ]
  },
  {
   "cell_type": "code",
   "execution_count": 173,
   "metadata": {
    "id": "g7WqrB-_dNmR"
   },
   "outputs": [
    {
     "name": "stdout",
     "output_type": "stream",
     "text": [
      "Classified Emotion:  joy\n"
     ]
    }
   ],
   "source": [
    "print(\"Classified Emotion: \", dict_label.get(np.argmax(emotion_Y_predicted[0])));"
   ]
  },
  {
   "cell_type": "code",
   "execution_count": null,
   "metadata": {},
   "outputs": [],
   "source": []
  }
 ],
 "metadata": {
  "colab": {
   "provenance": []
  },
  "kernelspec": {
   "display_name": "Python 3 (ipykernel)",
   "language": "python",
   "name": "python3"
  },
  "language_info": {
   "codemirror_mode": {
    "name": "ipython",
    "version": 3
   },
   "file_extension": ".py",
   "mimetype": "text/x-python",
   "name": "python",
   "nbconvert_exporter": "python",
   "pygments_lexer": "ipython3",
   "version": "3.9.12"
  }
 },
 "nbformat": 4,
 "nbformat_minor": 1
}
